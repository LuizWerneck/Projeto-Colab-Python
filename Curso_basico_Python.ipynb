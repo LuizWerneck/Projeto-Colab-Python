{
  "nbformat": 4,
  "nbformat_minor": 0,
  "metadata": {
    "colab": {
      "name": "Curso basico Python.ipynb",
      "provenance": [],
      "collapsed_sections": [],
      "authorship_tag": "ABX9TyPScUMZ99pWZn4TQ+K/ineS",
      "include_colab_link": true
    },
    "kernelspec": {
      "name": "python3",
      "display_name": "Python 3"
    },
    "language_info": {
      "name": "python"
    }
  },
  "cells": [
    {
      "cell_type": "markdown",
      "metadata": {
        "id": "view-in-github",
        "colab_type": "text"
      },
      "source": [
        "<a href=\"https://colab.research.google.com/github/LuizWerneck/Projeto-Colab-Python/blob/main/Curso_basico_Python.ipynb\" target=\"_parent\"><img src=\"https://colab.research.google.com/assets/colab-badge.svg\" alt=\"Open In Colab\"/></a>"
      ]
    },
    {
      "cell_type": "markdown",
      "source": [
        "**Passo a passo de solução do Desafio**"
      ],
      "metadata": {
        "id": "U-MmHl7hhsuy"
      }
    },
    {
      "cell_type": "code",
      "execution_count": null,
      "metadata": {
        "id": "-_s6P5JuhRWn"
      },
      "outputs": [],
      "source": [
        "# Lógica de programação\n",
        "\n",
        "# Passo 0 - Entender o desafio que você quer resolver\n",
        "\n",
        "# Passo 1 - Percorrer todos os arquivos da pasta base de dados (Pasta Vendas)\n",
        "\n",
        "# Passo 2 - Importar as bases de dados de vendas\n",
        "\n",
        "# Passo 3 - Tratar / Compilar as bases de dados\n",
        "\n",
        "# Passo 4 - Calcular o produto mais vendido (em quantidade)\n",
        "\n",
        "# Passo 5 - Calcular o produto que mais faturou (em faturamento)\n",
        "\n",
        "# Passo 6 - Calcular a loja/cidade que mais vendeu (em faturamento) - criar um gráfico/dashboard\n",
        "\n",
        "# Teste 3\n",
        "\n",
        "\n"
      ]
    }
  ]
}